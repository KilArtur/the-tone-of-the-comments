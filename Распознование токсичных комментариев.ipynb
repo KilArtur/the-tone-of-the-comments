{
 "cells": [
  {
   "cell_type": "markdown",
   "metadata": {},
   "source": [
    "# Проект для «Викишоп»"
   ]
  },
  {
   "cell_type": "markdown",
   "metadata": {},
   "source": [
    "Интернет-магазин «Викишоп» запускает новый сервис. Теперь пользователи могут редактировать и дополнять описания товаров, как в вики-сообществах. То есть клиенты предлагают свои правки и комментируют изменения других. Магазину нужен инструмент, который будет искать токсичные комментарии и отправлять их на модерацию. \n",
    "\n",
    "Обучите модель классифицировать комментарии на позитивные и негативные. В вашем распоряжении набор данных с разметкой о токсичности правок.\n",
    "\n",
    "Постройте модель со значением метрики качества *F1* не меньше 0.75. \n",
    "\n",
    "**Инструкция по выполнению проекта**\n",
    "\n",
    "1. Загрузите и подготовьте данные.\n",
    "2. Обучите разные модели. \n",
    "3. Сделайте выводы.\n",
    "\n",
    "Для выполнения проекта применять *BERT* необязательно, но вы можете попробовать.\n",
    "\n",
    "**Описание данных**\n",
    "\n",
    "Данные находятся в файле `toxic_comments.csv`. Столбец *text* в нём содержит текст комментария, а *toxic* — целевой признак."
   ]
  },
  {
   "cell_type": "markdown",
   "metadata": {},
   "source": [
    "## Подготовка"
   ]
  },
  {
   "cell_type": "markdown",
   "metadata": {},
   "source": [
    "Импорт библиотек"
   ]
  },
  {
   "cell_type": "code",
   "execution_count": 1,
   "metadata": {},
   "outputs": [
    {
     "name": "stderr",
     "output_type": "stream",
     "text": [
      "[nltk_data] Downloading package punkt to /home/jovyan/nltk_data...\n",
      "[nltk_data]   Package punkt is already up-to-date!\n"
     ]
    }
   ],
   "source": [
    "import os\n",
    "import re\n",
    "import nltk\n",
    "import string\n",
    "import pandas as pd\n",
    "import numpy as np\n",
    "\n",
    "from xgboost import XGBClassifier\n",
    "from nltk.corpus import stopwords\n",
    "from nltk.tokenize import word_tokenize\n",
    "from nltk.stem import SnowballStemmer\n",
    "nltk.download('punkt')\n",
    "\n",
    "from sklearn.feature_extraction.text import TfidfVectorizer\n",
    "from sklearn.linear_model import LogisticRegression\n",
    "from sklearn.dummy import DummyClassifier\n",
    "from sklearn.model_selection import train_test_split, GridSearchCV\n",
    "from sklearn.ensemble import RandomForestClassifier\n",
    "from sklearn.metrics import f1_score\n",
    "\n",
    "from pymystem3 import Mystem\n",
    "from catboost import CatBoostClassifier"
   ]
  },
  {
   "cell_type": "code",
   "execution_count": 2,
   "metadata": {},
   "outputs": [
    {
     "name": "stderr",
     "output_type": "stream",
     "text": [
      "[nltk_data] Downloading package stopwords to /home/jovyan/nltk_data...\n",
      "[nltk_data]   Package stopwords is already up-to-date!\n"
     ]
    }
   ],
   "source": [
    "nltk.download('stopwords')\n",
    "stop_list = set(stopwords.words('english'))"
   ]
  },
  {
   "cell_type": "markdown",
   "metadata": {},
   "source": [
    "Загрузка данных"
   ]
  },
  {
   "cell_type": "code",
   "execution_count": 3,
   "metadata": {},
   "outputs": [],
   "source": [
    "way_0 = r\"C:\\Users\\Кильдияров\\Downloads\\toxic_comments.csv\"\n",
    "way_1 = '/datasets/toxic_comments.csv'\n",
    "if os.path.exists(way_0):\n",
    "    df = pd.read_csv(way_0)\n",
    "elif os.path.exists(way_1):\n",
    "    df = pd.read_csv(way_1)\n",
    "else:\n",
    "    print('Error (o_O)')"
   ]
  },
  {
   "cell_type": "markdown",
   "metadata": {},
   "source": [
    "Проверим, что все данные загрузились корректно"
   ]
  },
  {
   "cell_type": "code",
   "execution_count": 4,
   "metadata": {},
   "outputs": [
    {
     "data": {
      "text/html": [
       "<div>\n",
       "<style scoped>\n",
       "    .dataframe tbody tr th:only-of-type {\n",
       "        vertical-align: middle;\n",
       "    }\n",
       "\n",
       "    .dataframe tbody tr th {\n",
       "        vertical-align: top;\n",
       "    }\n",
       "\n",
       "    .dataframe thead th {\n",
       "        text-align: right;\n",
       "    }\n",
       "</style>\n",
       "<table border=\"1\" class=\"dataframe\">\n",
       "  <thead>\n",
       "    <tr style=\"text-align: right;\">\n",
       "      <th></th>\n",
       "      <th>Unnamed: 0</th>\n",
       "      <th>text</th>\n",
       "      <th>toxic</th>\n",
       "    </tr>\n",
       "  </thead>\n",
       "  <tbody>\n",
       "    <tr>\n",
       "      <th>0</th>\n",
       "      <td>0</td>\n",
       "      <td>Explanation\\nWhy the edits made under my usern...</td>\n",
       "      <td>0</td>\n",
       "    </tr>\n",
       "    <tr>\n",
       "      <th>1</th>\n",
       "      <td>1</td>\n",
       "      <td>D'aww! He matches this background colour I'm s...</td>\n",
       "      <td>0</td>\n",
       "    </tr>\n",
       "    <tr>\n",
       "      <th>2</th>\n",
       "      <td>2</td>\n",
       "      <td>Hey man, I'm really not trying to edit war. It...</td>\n",
       "      <td>0</td>\n",
       "    </tr>\n",
       "    <tr>\n",
       "      <th>3</th>\n",
       "      <td>3</td>\n",
       "      <td>\"\\nMore\\nI can't make any real suggestions on ...</td>\n",
       "      <td>0</td>\n",
       "    </tr>\n",
       "    <tr>\n",
       "      <th>4</th>\n",
       "      <td>4</td>\n",
       "      <td>You, sir, are my hero. Any chance you remember...</td>\n",
       "      <td>0</td>\n",
       "    </tr>\n",
       "    <tr>\n",
       "      <th>5</th>\n",
       "      <td>5</td>\n",
       "      <td>\"\\n\\nCongratulations from me as well, use the ...</td>\n",
       "      <td>0</td>\n",
       "    </tr>\n",
       "    <tr>\n",
       "      <th>6</th>\n",
       "      <td>6</td>\n",
       "      <td>COCKSUCKER BEFORE YOU PISS AROUND ON MY WORK</td>\n",
       "      <td>1</td>\n",
       "    </tr>\n",
       "    <tr>\n",
       "      <th>7</th>\n",
       "      <td>7</td>\n",
       "      <td>Your vandalism to the Matt Shirvington article...</td>\n",
       "      <td>0</td>\n",
       "    </tr>\n",
       "    <tr>\n",
       "      <th>8</th>\n",
       "      <td>8</td>\n",
       "      <td>Sorry if the word 'nonsense' was offensive to ...</td>\n",
       "      <td>0</td>\n",
       "    </tr>\n",
       "    <tr>\n",
       "      <th>9</th>\n",
       "      <td>9</td>\n",
       "      <td>alignment on this subject and which are contra...</td>\n",
       "      <td>0</td>\n",
       "    </tr>\n",
       "  </tbody>\n",
       "</table>\n",
       "</div>"
      ],
      "text/plain": [
       "   Unnamed: 0                                               text  toxic\n",
       "0           0  Explanation\\nWhy the edits made under my usern...      0\n",
       "1           1  D'aww! He matches this background colour I'm s...      0\n",
       "2           2  Hey man, I'm really not trying to edit war. It...      0\n",
       "3           3  \"\\nMore\\nI can't make any real suggestions on ...      0\n",
       "4           4  You, sir, are my hero. Any chance you remember...      0\n",
       "5           5  \"\\n\\nCongratulations from me as well, use the ...      0\n",
       "6           6       COCKSUCKER BEFORE YOU PISS AROUND ON MY WORK      1\n",
       "7           7  Your vandalism to the Matt Shirvington article...      0\n",
       "8           8  Sorry if the word 'nonsense' was offensive to ...      0\n",
       "9           9  alignment on this subject and which are contra...      0"
      ]
     },
     "execution_count": 4,
     "metadata": {},
     "output_type": "execute_result"
    }
   ],
   "source": [
    "df.head(10)"
   ]
  },
  {
   "cell_type": "markdown",
   "metadata": {},
   "source": [
    "Данные загрузилиьсь корректно, теперь необходимо посмотреть количество пропусков и дубликатов"
   ]
  },
  {
   "cell_type": "code",
   "execution_count": 5,
   "metadata": {
    "scrolled": true
   },
   "outputs": [
    {
     "name": "stdout",
     "output_type": "stream",
     "text": [
      "Количество пропусков: 0\n",
      "Количество дубликатов: 0\n"
     ]
    }
   ],
   "source": [
    "print(f'Количество пропусков: {df.isna().sum().sum()}')\n",
    "print(f'Количество дубликатов: {df.duplicated().sum().sum()}')"
   ]
  },
  {
   "cell_type": "markdown",
   "metadata": {},
   "source": [
    "Данные в полном порядке, необходимо посмотреть баланс в целевом признаке"
   ]
  },
  {
   "cell_type": "code",
   "execution_count": 6,
   "metadata": {},
   "outputs": [
    {
     "data": {
      "image/png": "[encoded data removed]",
      "text/plain": [
       "<Figure size 432x288 with 1 Axes>"
      ]
     },
     "metadata": {
      "needs_background": "light"
     },
     "output_type": "display_data"
    }
   ],
   "source": [
    "df.toxic.hist();"
   ]
  },
  {
   "cell_type": "markdown",
   "metadata": {},
   "source": [
    "Существует явный дизбаланс в целевом признаке, так как колличество токсичных комментариев намного меньше, чем количество нетоксичных комментариев. При обучении моделей необходимо будет учесть этот факт "
   ]
  },
  {
   "cell_type": "code",
   "execution_count": 7,
   "metadata": {},
   "outputs": [
    {
     "name": "stdout",
     "output_type": "stream",
     "text": [
      "features_train: (119469, 1)\n",
      "features_test: (39823, 1)\n",
      "target_train: (119469,)\n",
      "target_test: (39823,)\n"
     ]
    }
   ],
   "source": [
    "# Разделим данные \n",
    "train, test = train_test_split(df, \n",
    "                              test_size = 0.25, \n",
    "                              random_state = 12345\n",
    "                              )\n",
    "features_train, target_train = train.drop(['toxic', 'Unnamed: 0'], axis = 1), train['toxic']\n",
    "features_test, target_test = test.drop(['toxic', 'Unnamed: 0'], axis = 1), test['toxic']\n",
    "# Посмотрим корректность поделенных данных\n",
    "print(f'features_train: {features_train.shape}')\n",
    "print(f'features_test: {features_test.shape}')\n",
    "print(f'target_train: {target_train.shape}')\n",
    "print(f'target_test: {target_test.shape}')"
   ]
  },
  {
   "cell_type": "markdown",
   "metadata": {},
   "source": [
    "Данные поделены корректно, проведем предобработку текста"
   ]
  },
  {
   "cell_type": "markdown",
   "metadata": {},
   "source": [
    "Напишем функцию, которая предложение разбивает на токены, убирает излишнюю пунктуацию, убирает стоп-слова и проводит стемминг (Лемматизацию)"
   ]
  },
  {
   "cell_type": "code",
   "execution_count": 8,
   "metadata": {},
   "outputs": [],
   "source": [
    "snowball = SnowballStemmer(language = 'english')\n",
    "english_stop_words = stopwords.words('english')\n",
    "def tokanize(text):\n",
    "    tokens = word_tokenize(text, language = 'english')\n",
    "    tokens = [i for i in tokens if i not in string.punctuation]\n",
    "    tokens = [i for i in tokens if i not in english_stop_words]\n",
    "    tokens = [snowball.stem(i) for i in tokens]\n",
    "    return \" \".join(tokens)"
   ]
  },
  {
   "cell_type": "code",
   "execution_count": 9,
   "metadata": {},
   "outputs": [
    {
     "data": {
      "text/html": [
       "<div>\n",
       "<style scoped>\n",
       "    .dataframe tbody tr th:only-of-type {\n",
       "        vertical-align: middle;\n",
       "    }\n",
       "\n",
       "    .dataframe tbody tr th {\n",
       "        vertical-align: top;\n",
       "    }\n",
       "\n",
       "    .dataframe thead th {\n",
       "        text-align: right;\n",
       "    }\n",
       "</style>\n",
       "<table border=\"1\" class=\"dataframe\">\n",
       "  <thead>\n",
       "    <tr style=\"text-align: right;\">\n",
       "      <th></th>\n",
       "      <th>text</th>\n",
       "      <th>processed_text</th>\n",
       "    </tr>\n",
       "  </thead>\n",
       "  <tbody>\n",
       "    <tr>\n",
       "      <th>116419</th>\n",
       "      <td>That makes no sense. You don't play MapleStory...</td>\n",
       "      <td>that make sens you n't play maplestori interne...</td>\n",
       "    </tr>\n",
       "    <tr>\n",
       "      <th>78749</th>\n",
       "      <td>\"\\n\\n Numbers killled \\n\\nThe existing text ma...</td>\n",
       "      <td>`` number killl the exist text match similar u...</td>\n",
       "    </tr>\n",
       "    <tr>\n",
       "      <th>73523</th>\n",
       "      <td>Privyet!  20:49, Oct 12, 2004 (UTC)</td>\n",
       "      <td>privyet 20:49 oct 12 2004 utc</td>\n",
       "    </tr>\n",
       "    <tr>\n",
       "      <th>157127</th>\n",
       "      <td>Let him. Stop posting comments on my talk page...</td>\n",
       "      <td>let stop post comment talk page i 'm unblock yea</td>\n",
       "    </tr>\n",
       "    <tr>\n",
       "      <th>51825</th>\n",
       "      <td>\"\\n Hello, , and Welcome to Wikipedia!\\nPlease...</td>\n",
       "      <td>`` hello welcom wikipedia pleas rememb sign na...</td>\n",
       "    </tr>\n",
       "  </tbody>\n",
       "</table>\n",
       "</div>"
      ],
      "text/plain": [
       "                                                     text  \\\n",
       "116419  That makes no sense. You don't play MapleStory...   \n",
       "78749   \"\\n\\n Numbers killled \\n\\nThe existing text ma...   \n",
       "73523                 Privyet!  20:49, Oct 12, 2004 (UTC)   \n",
       "157127  Let him. Stop posting comments on my talk page...   \n",
       "51825   \"\\n Hello, , and Welcome to Wikipedia!\\nPlease...   \n",
       "\n",
       "                                           processed_text  \n",
       "116419  that make sens you n't play maplestori interne...  \n",
       "78749   `` number killl the exist text match similar u...  \n",
       "73523                       privyet 20:49 oct 12 2004 utc  \n",
       "157127   let stop post comment talk page i 'm unblock yea  \n",
       "51825   `` hello welcom wikipedia pleas rememb sign na...  "
      ]
     },
     "execution_count": 9,
     "metadata": {},
     "output_type": "execute_result"
    }
   ],
   "source": [
    "features_train['processed_text'] = features_train['text'].apply(tokanize)\n",
    "features_test['processed_text'] = features_test['text'].apply(tokanize)\n",
    "features_train.head()"
   ]
  },
  {
   "cell_type": "code",
   "execution_count": 10,
   "metadata": {},
   "outputs": [
    {
     "name": "stdout",
     "output_type": "stream",
     "text": [
      "(119469, 132883)\n",
      "(39823, 132883)\n"
     ]
    }
   ],
   "source": [
    "count_tf_idf = TfidfVectorizer(stop_words = list(stop_list))\n",
    "tf_idf_train = count_tf_idf.fit_transform(features_train['processed_text'])\n",
    "tf_idf_test = count_tf_idf.transform(features_test['processed_text'])\n",
    "print(tf_idf_train.shape)\n",
    "print(tf_idf_test.shape)"
   ]
  },
  {
   "cell_type": "markdown",
   "metadata": {},
   "source": [
    "## Обучение"
   ]
  },
  {
   "cell_type": "markdown",
   "metadata": {},
   "source": [
    "Для подбора лучшей модели будем выбирать одну из трех моделей: LogisticRegression, RandomForestClassifier и модель градиентного бустинга: Catboost. Выбирать наиболее подходящую модель будем по 3 параметрам: \n",
    "1) значение метрики на тренировочных данных  \n",
    "2) время предсказания  \n",
    "3) время обучения модели"
   ]
  },
  {
   "cell_type": "markdown",
   "metadata": {},
   "source": [
    "Описание нашей метрики для GridSearchCV"
   ]
  },
  {
   "cell_type": "markdown",
   "metadata": {},
   "source": [
    "**Инициализация LogisticRegression**"
   ]
  },
  {
   "cell_type": "code",
   "execution_count": 17,
   "metadata": {
    "scrolled": true
   },
   "outputs": [
    {
     "name": "stderr",
     "output_type": "stream",
     "text": [
      "/opt/conda/lib/python3.9/site-packages/sklearn/linear_model/_logistic.py:763: ConvergenceWarning: lbfgs failed to converge (status=1):\n",
      "STOP: TOTAL NO. of ITERATIONS REACHED LIMIT.\n",
      "\n",
      "Increase the number of iterations (max_iter) or scale the data as shown in:\n",
      "    https://scikit-learn.org/stable/modules/preprocessing.html\n",
      "Please also refer to the documentation for alternative solver options:\n",
      "    https://scikit-learn.org/stable/modules/linear_model.html#logistic-regression\n",
      "  n_iter_i = _check_optimize_result(\n"
     ]
    },
    {
     "name": "stdout",
     "output_type": "stream",
     "text": [
      "Лучшие параметры: {'C': 0.9}\n",
      "Значение метрики: 0.74\n"
     ]
    },
    {
     "name": "stderr",
     "output_type": "stream",
     "text": [
      "/opt/conda/lib/python3.9/site-packages/sklearn/linear_model/_logistic.py:763: ConvergenceWarning: lbfgs failed to converge (status=1):\n",
      "STOP: TOTAL NO. of ITERATIONS REACHED LIMIT.\n",
      "\n",
      "Increase the number of iterations (max_iter) or scale the data as shown in:\n",
      "    https://scikit-learn.org/stable/modules/preprocessing.html\n",
      "Please also refer to the documentation for alternative solver options:\n",
      "    https://scikit-learn.org/stable/modules/linear_model.html#logistic-regression\n",
      "  n_iter_i = _check_optimize_result(\n"
     ]
    }
   ],
   "source": [
    "model_lg = LogisticRegression(class_weight = 'balanced', \n",
    "                              random_state = 12345)\n",
    "parametr = {'C' : [x for x in np.arange(0.1, 1, 0.1)]}\n",
    "grid_model_lg = GridSearchCV(model_lg,\n",
    "                             parametr,\n",
    "                             cv = 3, \n",
    "                             scoring = 'f1'\n",
    "                            )\n",
    "grid_model_lg.fit(tf_idf_train, target_train)\n",
    "print(f'Лучшие параметры: {grid_model_lg.best_params_}')\n",
    "print(f'Значение метрики: {grid_model_lg.best_score_:.2f}')"
   ]
  },
  {
   "cell_type": "markdown",
   "metadata": {},
   "source": [
    "Замерим время обучения модели"
   ]
  },
  {
   "cell_type": "code",
   "execution_count": 18,
   "metadata": {},
   "outputs": [
    {
     "name": "stdout",
     "output_type": "stream",
     "text": [
      "CPU times: user 15.3 s, sys: 28.7 s, total: 44 s\n",
      "Wall time: 44 s\n"
     ]
    },
    {
     "name": "stderr",
     "output_type": "stream",
     "text": [
      "/opt/conda/lib/python3.9/site-packages/sklearn/linear_model/_logistic.py:763: ConvergenceWarning: lbfgs failed to converge (status=1):\n",
      "STOP: TOTAL NO. of ITERATIONS REACHED LIMIT.\n",
      "\n",
      "Increase the number of iterations (max_iter) or scale the data as shown in:\n",
      "    https://scikit-learn.org/stable/modules/preprocessing.html\n",
      "Please also refer to the documentation for alternative solver options:\n",
      "    https://scikit-learn.org/stable/modules/linear_model.html#logistic-regression\n",
      "  n_iter_i = _check_optimize_result(\n"
     ]
    },
    {
     "data": {
      "text/plain": [
       "LogisticRegression(C=0.9, class_weight='balanced', random_state=12345)"
      ]
     },
     "execution_count": 18,
     "metadata": {},
     "output_type": "execute_result"
    }
   ],
   "source": [
    "%%time\n",
    "grid_model_lg.best_estimator_.fit(tf_idf_train, target_train)"
   ]
  },
  {
   "cell_type": "markdown",
   "metadata": {},
   "source": [
    "Замерим время предсказания модели"
   ]
  },
  {
   "cell_type": "code",
   "execution_count": 19,
   "metadata": {},
   "outputs": [
    {
     "name": "stdout",
     "output_type": "stream",
     "text": [
      "CPU times: user 13.5 ms, sys: 37.6 ms, total: 51.1 ms\n",
      "Wall time: 9.55 ms\n"
     ]
    }
   ],
   "source": [
    "%%time\n",
    "predictions = grid_model_lg.best_estimator_.predict(tf_idf_test)"
   ]
  },
  {
   "cell_type": "markdown",
   "metadata": {},
   "source": [
    "**Инициализация RandomForestClassifier**"
   ]
  },
  {
   "cell_type": "code",
   "execution_count": 20,
   "metadata": {},
   "outputs": [
    {
     "name": "stdout",
     "output_type": "stream",
     "text": [
      "Лучшие параметры: {'max_depth': 10, 'n_estimators': 150}\n",
      "Значение метрики: 0.36\n"
     ]
    }
   ],
   "source": [
    "model_rfc = RandomForestClassifier(class_weight = 'balanced',\n",
    "                                   random_state = 12345\n",
    "                                  )\n",
    "parameters = {'max_depth': [x for x in range(2, 12, 2)],\n",
    "              'n_estimators': [x for x in range(50, 251, 50)]\n",
    "             }\n",
    "grid_model_rfc = GridSearchCV(model_rfc,\n",
    "                             parameters,\n",
    "                             cv = 3,\n",
    "                             scoring = 'f1'\n",
    "                             )\n",
    "grid_model_rfc.fit(tf_idf_train, target_train)\n",
    "print(f'Лучшие параметры: {grid_model_rfc.best_params_}')\n",
    "print(f'Значение метрики: {grid_model_rfc.best_score_:.2f}')"
   ]
  },
  {
   "cell_type": "markdown",
   "metadata": {},
   "source": [
    "Замерим время обучения модели"
   ]
  },
  {
   "cell_type": "code",
   "execution_count": 21,
   "metadata": {},
   "outputs": [
    {
     "name": "stdout",
     "output_type": "stream",
     "text": [
      "CPU times: user 5.48 s, sys: 117 ms, total: 5.6 s\n",
      "Wall time: 5.61 s\n"
     ]
    },
    {
     "data": {
      "text/plain": [
       "RandomForestClassifier(class_weight='balanced', max_depth=10, n_estimators=150,\n",
       "                       random_state=12345)"
      ]
     },
     "execution_count": 21,
     "metadata": {},
     "output_type": "execute_result"
    }
   ],
   "source": [
    "%%time\n",
    "grid_model_rfc.best_estimator_.fit(tf_idf_train, target_train)"
   ]
  },
  {
   "cell_type": "markdown",
   "metadata": {},
   "source": [
    "Замерим время предсказания модели"
   ]
  },
  {
   "cell_type": "code",
   "execution_count": 22,
   "metadata": {},
   "outputs": [
    {
     "name": "stdout",
     "output_type": "stream",
     "text": [
      "CPU times: user 886 ms, sys: 22 ms, total: 908 ms\n",
      "Wall time: 914 ms\n"
     ]
    }
   ],
   "source": [
    "%%time\n",
    "predictions = grid_model_rfc.best_estimator_.predict(tf_idf_test)"
   ]
  },
  {
   "cell_type": "markdown",
   "metadata": {},
   "source": [
    "Замерим время предсказания модели"
   ]
  },
  {
   "cell_type": "markdown",
   "metadata": {},
   "source": [
    "Замерим время обучения модели"
   ]
  },
  {
   "cell_type": "markdown",
   "metadata": {},
   "source": [
    "## Промежуточный вывод\n",
    "1) Результаты LogisticRegression: \n",
    "\n",
    "    -Время обучения: 48.1 s\n",
    "    -Время предсказания: 92.9 ms\n",
    "    -RMSE на тренировочной выборке: 0.74\n",
    "2) Результаты RandomForestClassifier:  \n",
    "\n",
    "    -Время обучения:  4.95 s\n",
    "    -Время предсказания: 872 ms\n",
    "    -RMSE на тренировочной выборке: 0.36\n",
    "**Итог: По полученным результатам наиболее подходящая модель: LogisticRegression. С гиперпараметрами: (C=0.9, class_weight='balanced', random_state=12345)**"
   ]
  },
  {
   "cell_type": "markdown",
   "metadata": {},
   "source": [
    "Проверим значение метрики на тестовых данных"
   ]
  },
  {
   "cell_type": "code",
   "execution_count": 26,
   "metadata": {
    "scrolled": true
   },
   "outputs": [
    {
     "name": "stdout",
     "output_type": "stream",
     "text": [
      "Значение метрики на тестовых данных: 0.75\n"
     ]
    },
    {
     "name": "stderr",
     "output_type": "stream",
     "text": [
      "/opt/conda/lib/python3.9/site-packages/sklearn/linear_model/_logistic.py:763: ConvergenceWarning: lbfgs failed to converge (status=1):\n",
      "STOP: TOTAL NO. of ITERATIONS REACHED LIMIT.\n",
      "\n",
      "Increase the number of iterations (max_iter) or scale the data as shown in:\n",
      "    https://scikit-learn.org/stable/modules/preprocessing.html\n",
      "Please also refer to the documentation for alternative solver options:\n",
      "    https://scikit-learn.org/stable/modules/linear_model.html#logistic-regression\n",
      "  n_iter_i = _check_optimize_result(\n"
     ]
    }
   ],
   "source": [
    "model = LogisticRegression(C = 0.9, class_weight = 'balanced', random_state = 12345)\n",
    "model.fit(tf_idf_train, target_train)\n",
    "predictions = model.predict(tf_idf_test)\n",
    "print(f'Значение метрики на тестовых данных: {f1_score(target_test, predictions):.2f}')"
   ]
  },
  {
   "cell_type": "markdown",
   "metadata": {},
   "source": [
    "**Проверим модель на адекватность**"
   ]
  },
  {
   "cell_type": "code",
   "execution_count": 27,
   "metadata": {},
   "outputs": [
    {
     "name": "stdout",
     "output_type": "stream",
     "text": [
      "Значение f1_score для константной модели: 0.10\n"
     ]
    }
   ],
   "source": [
    "model_dr = DummyClassifier(strategy = \"stratified\")\n",
    "model_dr.fit(tf_idf_train, target_train)\n",
    "predictions_dr = model_dr.predict(tf_idf_test)\n",
    "print(f'Значение f1_score для константной модели: {f1_score(target_test, predictions_dr):.2f}')"
   ]
  },
  {
   "cell_type": "markdown",
   "metadata": {},
   "source": [
    "# Вывод:  \n",
    "Нашей целью было найти и обучить модель для магазина \"ВИКИШОП\", которая способна классифицировать комментарии на позитивные и негативные для того, чтобы в дальнейшем токсичные отзывы отправлялись на модерацию. При этом достигуть результата предсказания наилучшей модели по мерке F1 не меньше 0.75\n",
    "\n",
    "\n",
    "В нашем распоряжении был набор данных с разметкой о токсичности правок, но для правильной работы предсказательных алгоритмов моделей нам пришлось очистить комментарии от лишних символов и пр.мусора, а так же прибегнуть к балансировке выборок методами upsample и downsamle, т.к. сильный дисбаланс в классах мог негативно повлиять на качество предсказания моделей.\n",
    "\n",
    "Для определения наилучшей модели мы остановили наш выбор на трёх моделях CatBoost,LogisticRegression и RandomForestClassifier. По итогам сравнеиня победила модель LogisticRegression, которая набрала значение метрики 0.75, а модель DummyClassifier показала значение метрики: 0.11\n"
   ]
  }
 ],
 "metadata": {
  "ExecuteTimeLog": [
   {
    "duration": 362,
    "start_time": "2023-07-15T06:59:10.669Z"
   },
   {
    "duration": 97,
    "start_time": "2023-07-15T07:02:25.652Z"
   },
   {
    "duration": 2886,
    "start_time": "2023-07-15T07:02:29.988Z"
   },
   {
    "duration": 13,
    "start_time": "2023-07-15T07:03:03.759Z"
   },
   {
    "duration": 64,
    "start_time": "2023-07-15T07:04:55.958Z"
   },
   {
    "duration": 7,
    "start_time": "2023-07-15T07:04:59.292Z"
   },
   {
    "duration": 9,
    "start_time": "2023-07-15T07:05:04.866Z"
   },
   {
    "duration": 30,
    "start_time": "2023-07-15T07:06:38.369Z"
   },
   {
    "duration": 285,
    "start_time": "2023-07-15T07:07:08.639Z"
   },
   {
    "duration": 27,
    "start_time": "2023-07-15T07:09:17.727Z"
   },
   {
    "duration": 29,
    "start_time": "2023-07-15T07:09:44.492Z"
   },
   {
    "duration": 220,
    "start_time": "2023-07-15T07:09:47.042Z"
   },
   {
    "duration": 12,
    "start_time": "2023-07-15T07:10:32.337Z"
   },
   {
    "duration": 6,
    "start_time": "2023-07-15T07:10:38.180Z"
   },
   {
    "duration": 525,
    "start_time": "2023-07-15T07:10:42.075Z"
   },
   {
    "duration": 144,
    "start_time": "2023-07-15T07:13:07.178Z"
   },
   {
    "duration": 134,
    "start_time": "2023-07-15T07:13:16.285Z"
   },
   {
    "duration": 135,
    "start_time": "2023-07-15T07:13:19.443Z"
   },
   {
    "duration": 186,
    "start_time": "2023-07-15T07:13:40.274Z"
   },
   {
    "duration": 7,
    "start_time": "2023-07-15T07:13:53.543Z"
   },
   {
    "duration": 135,
    "start_time": "2023-07-15T07:17:42.945Z"
   },
   {
    "duration": 145,
    "start_time": "2023-07-15T07:17:46.921Z"
   },
   {
    "duration": 101,
    "start_time": "2023-07-16T11:18:56.517Z"
   },
   {
    "duration": 563,
    "start_time": "2023-07-16T11:18:59.960Z"
   },
   {
    "duration": 6329,
    "start_time": "2023-07-16T11:19:01.415Z"
   },
   {
    "duration": 29,
    "start_time": "2023-07-16T11:19:07.746Z"
   },
   {
    "duration": 358,
    "start_time": "2023-07-16T11:19:07.785Z"
   },
   {
    "duration": 973,
    "start_time": "2023-07-16T11:19:08.150Z"
   },
   {
    "duration": 81,
    "start_time": "2023-07-16T11:19:31.137Z"
   },
   {
    "duration": 14,
    "start_time": "2023-07-16T11:19:36.774Z"
   },
   {
    "duration": 156,
    "start_time": "2023-07-16T11:19:42.764Z"
   },
   {
    "duration": 172,
    "start_time": "2023-07-16T11:19:46.111Z"
   },
   {
    "duration": 60,
    "start_time": "2023-07-16T11:20:17.239Z"
   },
   {
    "duration": 49,
    "start_time": "2023-07-16T11:20:24.050Z"
   },
   {
    "duration": 33,
    "start_time": "2023-07-16T11:20:31.745Z"
   },
   {
    "duration": 20,
    "start_time": "2023-07-16T11:20:44.063Z"
   },
   {
    "duration": 1053,
    "start_time": "2023-07-16T11:24:11.192Z"
   },
   {
    "duration": 26,
    "start_time": "2023-07-16T11:24:14.358Z"
   },
   {
    "duration": 52,
    "start_time": "2023-07-16T11:24:40.442Z"
   },
   {
    "duration": 77,
    "start_time": "2023-07-16T11:25:32.519Z"
   },
   {
    "duration": 13,
    "start_time": "2023-07-16T11:27:03.741Z"
   },
   {
    "duration": 5,
    "start_time": "2023-07-16T11:27:08.641Z"
   },
   {
    "duration": 26,
    "start_time": "2023-07-16T11:27:14.357Z"
   },
   {
    "duration": 4,
    "start_time": "2023-07-16T11:27:18.743Z"
   },
   {
    "duration": 55,
    "start_time": "2023-07-16T11:32:35.222Z"
   },
   {
    "duration": 388,
    "start_time": "2023-07-16T11:34:53.360Z"
   },
   {
    "duration": 459,
    "start_time": "2023-07-16T11:42:24.646Z"
   },
   {
    "duration": 4,
    "start_time": "2023-07-16T11:45:52.043Z"
   },
   {
    "duration": 201,
    "start_time": "2023-07-16T11:48:22.202Z"
   },
   {
    "duration": 60,
    "start_time": "2023-07-16T11:49:29.658Z"
   },
   {
    "duration": 5,
    "start_time": "2023-07-16T11:50:09.947Z"
   },
   {
    "duration": 6,
    "start_time": "2023-07-16T11:50:11.012Z"
   },
   {
    "duration": 972,
    "start_time": "2023-07-16T11:50:14.534Z"
   },
   {
    "duration": 13,
    "start_time": "2023-07-16T11:50:15.509Z"
   },
   {
    "duration": 319,
    "start_time": "2023-07-16T11:50:15.525Z"
   },
   {
    "duration": 231,
    "start_time": "2023-07-16T11:50:16.141Z"
   },
   {
    "duration": 60,
    "start_time": "2023-07-16T11:50:17.231Z"
   },
   {
    "duration": 12,
    "start_time": "2023-07-16T11:51:47.765Z"
   },
   {
    "duration": 10,
    "start_time": "2023-07-16T11:52:16.339Z"
   },
   {
    "duration": 16,
    "start_time": "2023-07-16T11:52:48.038Z"
   },
   {
    "duration": 882,
    "start_time": "2023-07-16T11:52:54.034Z"
   },
   {
    "duration": 49,
    "start_time": "2023-07-16T11:53:19.051Z"
   },
   {
    "duration": 15,
    "start_time": "2023-07-16T11:53:27.334Z"
   },
   {
    "duration": 7,
    "start_time": "2023-07-16T11:57:19.052Z"
   },
   {
    "duration": 15,
    "start_time": "2023-07-16T12:03:38.215Z"
   },
   {
    "duration": 866,
    "start_time": "2023-07-16T12:03:49.219Z"
   },
   {
    "duration": 40,
    "start_time": "2023-07-16T12:11:22.511Z"
   },
   {
    "duration": 339,
    "start_time": "2023-07-16T12:11:58.254Z"
   },
   {
    "duration": 5,
    "start_time": "2023-07-16T12:12:07.899Z"
   },
   {
    "duration": 6,
    "start_time": "2023-07-16T12:12:14.155Z"
   },
   {
    "duration": 20,
    "start_time": "2023-07-16T12:34:25.111Z"
   },
   {
    "duration": 16,
    "start_time": "2023-07-16T12:34:29.134Z"
   },
   {
    "duration": 18,
    "start_time": "2023-07-16T12:34:44.126Z"
   },
   {
    "duration": 21,
    "start_time": "2023-07-16T12:35:01.366Z"
   },
   {
    "duration": 11,
    "start_time": "2023-07-16T12:35:04.210Z"
   },
   {
    "duration": 11,
    "start_time": "2023-07-16T12:35:14.824Z"
   },
   {
    "duration": 16,
    "start_time": "2023-07-16T12:35:25.117Z"
   },
   {
    "duration": 16,
    "start_time": "2023-07-16T12:35:28.505Z"
   },
   {
    "duration": 16,
    "start_time": "2023-07-16T12:35:54.165Z"
   },
   {
    "duration": 4,
    "start_time": "2023-07-16T12:36:04.642Z"
   },
   {
    "duration": 6,
    "start_time": "2023-07-16T12:36:17.839Z"
   },
   {
    "duration": 4,
    "start_time": "2023-07-16T12:36:24.230Z"
   },
   {
    "duration": 5,
    "start_time": "2023-07-16T12:36:32.023Z"
   },
   {
    "duration": 5,
    "start_time": "2023-07-16T12:36:38.933Z"
   },
   {
    "duration": 5,
    "start_time": "2023-07-16T12:36:43.719Z"
   },
   {
    "duration": 11,
    "start_time": "2023-07-16T12:37:15.574Z"
   },
   {
    "duration": 6,
    "start_time": "2023-07-16T12:37:18.834Z"
   },
   {
    "duration": 5,
    "start_time": "2023-07-16T12:37:24.882Z"
   },
   {
    "duration": 4,
    "start_time": "2023-07-16T12:37:29.501Z"
   },
   {
    "duration": 6,
    "start_time": "2023-07-16T12:37:47.449Z"
   },
   {
    "duration": 7,
    "start_time": "2023-07-16T12:37:53.498Z"
   },
   {
    "duration": 11,
    "start_time": "2023-07-16T12:38:09.419Z"
   },
   {
    "duration": 3,
    "start_time": "2023-07-16T12:39:28.036Z"
   },
   {
    "duration": 5,
    "start_time": "2023-07-16T12:39:36.129Z"
   },
   {
    "duration": 20,
    "start_time": "2023-07-16T12:40:14.600Z"
   },
   {
    "duration": 19,
    "start_time": "2023-07-16T12:42:12.631Z"
   },
   {
    "duration": 15,
    "start_time": "2023-07-16T12:42:12.657Z"
   },
   {
    "duration": 9,
    "start_time": "2023-07-16T12:53:17.932Z"
   },
   {
    "duration": 112,
    "start_time": "2023-07-16T12:58:34.788Z"
   },
   {
    "duration": 5,
    "start_time": "2023-07-16T12:58:37.059Z"
   },
   {
    "duration": 47,
    "start_time": "2023-07-16T12:58:43.031Z"
   },
   {
    "duration": 24,
    "start_time": "2023-07-16T12:58:49.597Z"
   },
   {
    "duration": 11,
    "start_time": "2023-07-16T12:59:32.366Z"
   },
   {
    "duration": 20,
    "start_time": "2023-07-16T12:59:53.182Z"
   },
   {
    "duration": 53,
    "start_time": "2023-07-16T13:00:04.158Z"
   },
   {
    "duration": 2255,
    "start_time": "2023-07-16T13:01:12.948Z"
   },
   {
    "duration": 18,
    "start_time": "2023-07-16T13:01:43.237Z"
   },
   {
    "duration": 13,
    "start_time": "2023-07-16T13:01:56.564Z"
   },
   {
    "duration": 2346,
    "start_time": "2023-07-16T13:02:03.713Z"
   },
   {
    "duration": 5,
    "start_time": "2023-07-16T13:02:21.433Z"
   },
   {
    "duration": 4,
    "start_time": "2023-07-16T13:02:25.613Z"
   },
   {
    "duration": 2120,
    "start_time": "2023-07-16T13:02:29.138Z"
   },
   {
    "duration": 6,
    "start_time": "2023-07-16T13:02:46.998Z"
   },
   {
    "duration": 4,
    "start_time": "2023-07-16T13:02:57.897Z"
   },
   {
    "duration": 4,
    "start_time": "2023-07-16T13:03:03.846Z"
   },
   {
    "duration": 13,
    "start_time": "2023-07-16T13:03:10.316Z"
   },
   {
    "duration": 5,
    "start_time": "2023-07-16T13:11:57.315Z"
   },
   {
    "duration": 192,
    "start_time": "2023-07-16T13:12:33.603Z"
   },
   {
    "duration": 107,
    "start_time": "2023-07-16T13:13:35.143Z"
   },
   {
    "duration": 9,
    "start_time": "2023-07-16T13:13:44.093Z"
   },
   {
    "duration": 5,
    "start_time": "2023-07-16T13:13:57.002Z"
   },
   {
    "duration": 32,
    "start_time": "2023-07-16T13:17:06.036Z"
   },
   {
    "duration": 28,
    "start_time": "2023-07-16T13:17:12.969Z"
   },
   {
    "duration": 9,
    "start_time": "2023-07-16T13:17:15.998Z"
   },
   {
    "duration": 8,
    "start_time": "2023-07-16T13:17:23.781Z"
   },
   {
    "duration": 12,
    "start_time": "2023-07-16T13:19:17.043Z"
   },
   {
    "duration": 39,
    "start_time": "2023-07-16T13:19:49.203Z"
   },
   {
    "duration": 6,
    "start_time": "2023-07-16T13:19:56.599Z"
   },
   {
    "duration": 16,
    "start_time": "2023-07-16T13:19:59.998Z"
   },
   {
    "duration": 3,
    "start_time": "2023-07-16T13:20:09.710Z"
   },
   {
    "duration": 4,
    "start_time": "2023-07-16T13:21:28.438Z"
   },
   {
    "duration": 3,
    "start_time": "2023-07-16T13:21:45.528Z"
   },
   {
    "duration": 7,
    "start_time": "2023-07-16T13:22:49.548Z"
   },
   {
    "duration": 12,
    "start_time": "2023-07-16T13:23:04.765Z"
   },
   {
    "duration": 6,
    "start_time": "2023-07-16T13:23:12.810Z"
   },
   {
    "duration": 5,
    "start_time": "2023-07-16T13:23:25.189Z"
   },
   {
    "duration": 6,
    "start_time": "2023-07-16T13:26:16.789Z"
   },
   {
    "duration": 5,
    "start_time": "2023-07-16T13:26:22.488Z"
   },
   {
    "duration": 6,
    "start_time": "2023-07-16T13:27:18.554Z"
   },
   {
    "duration": 4,
    "start_time": "2023-07-16T13:27:54.422Z"
   },
   {
    "duration": 15,
    "start_time": "2023-07-16T13:28:22.456Z"
   },
   {
    "duration": 23,
    "start_time": "2023-07-16T13:28:32.204Z"
   },
   {
    "duration": 1835,
    "start_time": "2023-07-16T13:31:19.484Z"
   },
   {
    "duration": 7,
    "start_time": "2023-07-16T13:31:21.321Z"
   },
   {
    "duration": 1003,
    "start_time": "2023-07-16T13:31:21.330Z"
   },
   {
    "duration": 19,
    "start_time": "2023-07-16T13:31:22.335Z"
   },
   {
    "duration": 322,
    "start_time": "2023-07-16T13:31:22.367Z"
   },
   {
    "duration": 429,
    "start_time": "2023-07-16T13:31:22.691Z"
   },
   {
    "duration": 64,
    "start_time": "2023-07-16T13:31:23.122Z"
   },
   {
    "duration": 151,
    "start_time": "2023-07-16T13:31:23.188Z"
   },
   {
    "duration": 0,
    "start_time": "2023-07-16T13:31:23.341Z"
   },
   {
    "duration": 0,
    "start_time": "2023-07-16T13:31:23.343Z"
   },
   {
    "duration": 1,
    "start_time": "2023-07-16T13:31:23.344Z"
   },
   {
    "duration": 6,
    "start_time": "2023-07-16T13:31:31.220Z"
   },
   {
    "duration": 9,
    "start_time": "2023-07-16T13:31:47.140Z"
   },
   {
    "duration": 14,
    "start_time": "2023-07-16T13:32:52.091Z"
   },
   {
    "duration": 19,
    "start_time": "2023-07-16T13:33:00.466Z"
   },
   {
    "duration": 1917,
    "start_time": "2023-07-16T13:33:13.516Z"
   },
   {
    "duration": 142,
    "start_time": "2023-07-16T13:34:08.059Z"
   },
   {
    "duration": 11,
    "start_time": "2023-07-16T13:34:20.106Z"
   },
   {
    "duration": 12,
    "start_time": "2023-07-16T13:34:27.941Z"
   },
   {
    "duration": 16,
    "start_time": "2023-07-16T13:34:30.241Z"
   },
   {
    "duration": 5,
    "start_time": "2023-07-16T13:34:52.286Z"
   },
   {
    "duration": 4,
    "start_time": "2023-07-16T13:35:17.219Z"
   },
   {
    "duration": 11,
    "start_time": "2023-07-16T13:35:26.142Z"
   },
   {
    "duration": 1690,
    "start_time": "2023-07-16T13:35:39.685Z"
   },
   {
    "duration": 7,
    "start_time": "2023-07-16T13:35:41.377Z"
   },
   {
    "duration": 1024,
    "start_time": "2023-07-16T13:35:41.385Z"
   },
   {
    "duration": 15,
    "start_time": "2023-07-16T13:35:42.411Z"
   },
   {
    "duration": 315,
    "start_time": "2023-07-16T13:35:42.428Z"
   },
   {
    "duration": 401,
    "start_time": "2023-07-16T13:35:42.745Z"
   },
   {
    "duration": 60,
    "start_time": "2023-07-16T13:35:43.147Z"
   },
   {
    "duration": 4,
    "start_time": "2023-07-16T13:35:43.209Z"
   },
   {
    "duration": 149,
    "start_time": "2023-07-16T13:35:43.214Z"
   },
   {
    "duration": 0,
    "start_time": "2023-07-16T13:35:43.364Z"
   },
   {
    "duration": 0,
    "start_time": "2023-07-16T13:35:43.367Z"
   },
   {
    "duration": 0,
    "start_time": "2023-07-16T13:35:43.368Z"
   },
   {
    "duration": 137,
    "start_time": "2023-07-16T13:36:21.448Z"
   },
   {
    "duration": 4,
    "start_time": "2023-07-16T13:36:48.120Z"
   },
   {
    "duration": 12,
    "start_time": "2023-07-16T13:37:00.908Z"
   },
   {
    "duration": 47,
    "start_time": "2023-07-16T13:37:46.850Z"
   },
   {
    "duration": 31,
    "start_time": "2023-07-16T13:39:02.473Z"
   },
   {
    "duration": 22,
    "start_time": "2023-07-16T13:39:20.174Z"
   },
   {
    "duration": 13,
    "start_time": "2023-07-16T13:39:31.219Z"
   },
   {
    "duration": 4,
    "start_time": "2023-07-16T13:39:57.046Z"
   },
   {
    "duration": 32,
    "start_time": "2023-07-16T13:40:00.357Z"
   },
   {
    "duration": 12,
    "start_time": "2023-07-16T13:40:22.916Z"
   },
   {
    "duration": 18,
    "start_time": "2023-07-16T13:40:27.424Z"
   },
   {
    "duration": 4,
    "start_time": "2023-07-16T13:40:38.747Z"
   },
   {
    "duration": 21,
    "start_time": "2023-07-16T13:40:39.843Z"
   },
   {
    "duration": 5,
    "start_time": "2023-07-16T13:40:54.213Z"
   },
   {
    "duration": 24,
    "start_time": "2023-07-16T13:40:57.720Z"
   },
   {
    "duration": 4,
    "start_time": "2023-07-16T13:41:49.296Z"
   },
   {
    "duration": 14,
    "start_time": "2023-07-16T13:43:08.540Z"
   },
   {
    "duration": 1660,
    "start_time": "2023-07-16T13:43:55.103Z"
   },
   {
    "duration": 3,
    "start_time": "2023-07-16T13:43:56.765Z"
   },
   {
    "duration": 1012,
    "start_time": "2023-07-16T13:43:56.770Z"
   },
   {
    "duration": 18,
    "start_time": "2023-07-16T13:43:57.783Z"
   },
   {
    "duration": 322,
    "start_time": "2023-07-16T13:43:57.804Z"
   },
   {
    "duration": 385,
    "start_time": "2023-07-16T13:43:58.128Z"
   },
   {
    "duration": 61,
    "start_time": "2023-07-16T13:43:58.515Z"
   },
   {
    "duration": 141,
    "start_time": "2023-07-16T13:43:58.578Z"
   },
   {
    "duration": 0,
    "start_time": "2023-07-16T13:43:58.720Z"
   },
   {
    "duration": 0,
    "start_time": "2023-07-16T13:43:58.722Z"
   },
   {
    "duration": 0,
    "start_time": "2023-07-16T13:43:58.723Z"
   },
   {
    "duration": 0,
    "start_time": "2023-07-16T13:43:58.724Z"
   },
   {
    "duration": 5,
    "start_time": "2023-07-16T13:44:14.280Z"
   },
   {
    "duration": 21,
    "start_time": "2023-07-16T13:44:16.299Z"
   },
   {
    "duration": 128,
    "start_time": "2023-07-16T13:44:26.176Z"
   },
   {
    "duration": 11,
    "start_time": "2023-07-16T13:44:32.500Z"
   },
   {
    "duration": 6,
    "start_time": "2023-07-16T13:44:40.138Z"
   },
   {
    "duration": 26,
    "start_time": "2023-07-16T13:45:34.519Z"
   },
   {
    "duration": 12,
    "start_time": "2023-07-16T13:45:42.526Z"
   },
   {
    "duration": 13,
    "start_time": "2023-07-16T13:45:47.593Z"
   },
   {
    "duration": 23,
    "start_time": "2023-07-16T13:45:54.097Z"
   },
   {
    "duration": 12,
    "start_time": "2023-07-16T13:47:13.428Z"
   },
   {
    "duration": 7,
    "start_time": "2023-07-16T13:47:25.545Z"
   },
   {
    "duration": 12,
    "start_time": "2023-07-16T13:47:31.123Z"
   },
   {
    "duration": 26,
    "start_time": "2023-07-16T13:47:39.722Z"
   },
   {
    "duration": 49,
    "start_time": "2023-07-16T13:48:03.391Z"
   },
   {
    "duration": 36,
    "start_time": "2023-07-16T13:48:16.524Z"
   },
   {
    "duration": 127,
    "start_time": "2023-07-16T13:48:51.957Z"
   },
   {
    "duration": 26,
    "start_time": "2023-07-16T13:48:54.269Z"
   },
   {
    "duration": 31,
    "start_time": "2023-07-16T13:50:40.565Z"
   },
   {
    "duration": 14,
    "start_time": "2023-07-16T13:50:52.345Z"
   },
   {
    "duration": 10,
    "start_time": "2023-07-16T13:51:00.577Z"
   },
   {
    "duration": 11,
    "start_time": "2023-07-16T13:54:19.738Z"
   },
   {
    "duration": 6,
    "start_time": "2023-07-16T13:59:54.052Z"
   },
   {
    "duration": 16026,
    "start_time": "2023-07-16T13:59:54.823Z"
   },
   {
    "duration": 1745,
    "start_time": "2023-07-16T14:00:16.525Z"
   },
   {
    "duration": 6,
    "start_time": "2023-07-16T14:00:18.273Z"
   },
   {
    "duration": 1163,
    "start_time": "2023-07-16T14:00:18.283Z"
   },
   {
    "duration": 31,
    "start_time": "2023-07-16T14:00:19.449Z"
   },
   {
    "duration": 348,
    "start_time": "2023-07-16T14:00:19.483Z"
   },
   {
    "duration": 431,
    "start_time": "2023-07-16T14:00:19.833Z"
   },
   {
    "duration": 58,
    "start_time": "2023-07-16T14:00:20.267Z"
   },
   {
    "duration": 6,
    "start_time": "2023-07-16T14:00:20.327Z"
   },
   {
    "duration": 132813,
    "start_time": "2023-07-16T14:00:20.335Z"
   },
   {
    "duration": 3,
    "start_time": "2023-07-16T14:02:33.150Z"
   },
   {
    "duration": 18,
    "start_time": "2023-07-16T14:02:33.155Z"
   },
   {
    "duration": 12,
    "start_time": "2023-07-16T14:02:33.175Z"
   },
   {
    "duration": 22,
    "start_time": "2023-07-16T14:03:33.908Z"
   },
   {
    "duration": 7,
    "start_time": "2023-07-16T14:11:04.904Z"
   },
   {
    "duration": 5,
    "start_time": "2023-07-16T14:11:13.304Z"
   },
   {
    "duration": 6,
    "start_time": "2023-07-16T14:11:32.496Z"
   },
   {
    "duration": 2047,
    "start_time": "2023-07-16T14:11:52.563Z"
   },
   {
    "duration": 3,
    "start_time": "2023-07-16T14:11:54.619Z"
   },
   {
    "duration": 1297,
    "start_time": "2023-07-16T14:11:54.624Z"
   },
   {
    "duration": 16,
    "start_time": "2023-07-16T14:11:55.924Z"
   },
   {
    "duration": 376,
    "start_time": "2023-07-16T14:11:55.942Z"
   },
   {
    "duration": 526,
    "start_time": "2023-07-16T14:11:56.320Z"
   },
   {
    "duration": 77,
    "start_time": "2023-07-16T14:11:56.849Z"
   },
   {
    "duration": 7,
    "start_time": "2023-07-16T14:11:56.928Z"
   },
   {
    "duration": 61444,
    "start_time": "2023-07-16T14:11:56.937Z"
   },
   {
    "duration": 1866,
    "start_time": "2023-07-16T14:13:02.769Z"
   },
   {
    "duration": 3,
    "start_time": "2023-07-16T14:13:04.637Z"
   },
   {
    "duration": 1080,
    "start_time": "2023-07-16T14:13:04.641Z"
   },
   {
    "duration": 19,
    "start_time": "2023-07-16T14:13:05.723Z"
   },
   {
    "duration": 332,
    "start_time": "2023-07-16T14:13:05.745Z"
   },
   {
    "duration": 430,
    "start_time": "2023-07-16T14:13:06.079Z"
   },
   {
    "duration": 45,
    "start_time": "2023-07-16T14:13:06.510Z"
   },
   {
    "duration": 9,
    "start_time": "2023-07-16T14:13:06.568Z"
   },
   {
    "duration": 2167,
    "start_time": "2023-07-16T14:14:38.113Z"
   },
   {
    "duration": 210,
    "start_time": "2023-07-16T14:14:40.283Z"
   },
   {
    "duration": 0,
    "start_time": "2023-07-16T14:14:40.499Z"
   },
   {
    "duration": 0,
    "start_time": "2023-07-16T14:14:40.500Z"
   },
   {
    "duration": 0,
    "start_time": "2023-07-16T14:14:40.501Z"
   },
   {
    "duration": 0,
    "start_time": "2023-07-16T14:14:40.502Z"
   },
   {
    "duration": 0,
    "start_time": "2023-07-16T14:14:40.504Z"
   },
   {
    "duration": 0,
    "start_time": "2023-07-16T14:14:40.506Z"
   },
   {
    "duration": 0,
    "start_time": "2023-07-16T14:14:40.510Z"
   },
   {
    "duration": 0,
    "start_time": "2023-07-16T14:14:40.512Z"
   },
   {
    "duration": 0,
    "start_time": "2023-07-16T14:14:40.513Z"
   },
   {
    "duration": 1919,
    "start_time": "2023-07-16T14:15:02.113Z"
   },
   {
    "duration": 8,
    "start_time": "2023-07-16T14:15:04.034Z"
   },
   {
    "duration": 1171,
    "start_time": "2023-07-16T14:15:04.045Z"
   },
   {
    "duration": 17,
    "start_time": "2023-07-16T14:15:05.218Z"
   },
   {
    "duration": 344,
    "start_time": "2023-07-16T14:15:05.237Z"
   },
   {
    "duration": 432,
    "start_time": "2023-07-16T14:15:05.590Z"
   },
   {
    "duration": 74,
    "start_time": "2023-07-16T14:15:06.024Z"
   },
   {
    "duration": 6,
    "start_time": "2023-07-16T14:15:06.101Z"
   },
   {
    "duration": 208224,
    "start_time": "2023-07-16T14:15:06.109Z"
   },
   {
    "duration": 4,
    "start_time": "2023-07-16T14:18:34.338Z"
   },
   {
    "duration": 12,
    "start_time": "2023-07-16T14:18:34.344Z"
   },
   {
    "duration": 183,
    "start_time": "2023-07-16T14:41:41.933Z"
   },
   {
    "duration": 16,
    "start_time": "2023-07-16T14:41:49.554Z"
   },
   {
    "duration": 19,
    "start_time": "2023-07-16T14:41:57.817Z"
   },
   {
    "duration": 34,
    "start_time": "2023-07-16T14:43:22.563Z"
   },
   {
    "duration": 14,
    "start_time": "2023-07-16T14:43:26.702Z"
   },
   {
    "duration": 8,
    "start_time": "2023-07-16T14:43:53.803Z"
   },
   {
    "duration": 15,
    "start_time": "2023-07-16T14:44:00.006Z"
   },
   {
    "duration": 1760,
    "start_time": "2023-07-16T14:44:06.666Z"
   },
   {
    "duration": 7,
    "start_time": "2023-07-16T14:44:08.430Z"
   },
   {
    "duration": 1130,
    "start_time": "2023-07-16T14:44:08.438Z"
   },
   {
    "duration": 25,
    "start_time": "2023-07-16T14:44:09.570Z"
   },
   {
    "duration": 324,
    "start_time": "2023-07-16T14:44:09.598Z"
   },
   {
    "duration": 436,
    "start_time": "2023-07-16T14:44:09.924Z"
   },
   {
    "duration": 64,
    "start_time": "2023-07-16T14:44:10.366Z"
   },
   {
    "duration": 7,
    "start_time": "2023-07-16T14:44:10.432Z"
   },
   {
    "duration": 220850,
    "start_time": "2023-07-16T14:44:10.441Z"
   },
   {
    "duration": 151,
    "start_time": "2023-07-16T14:47:51.293Z"
   },
   {
    "duration": 0,
    "start_time": "2023-07-16T14:47:51.446Z"
   },
   {
    "duration": 0,
    "start_time": "2023-07-16T14:47:51.448Z"
   },
   {
    "duration": 0,
    "start_time": "2023-07-16T14:47:51.449Z"
   },
   {
    "duration": 24,
    "start_time": "2023-07-16T14:48:16.105Z"
   },
   {
    "duration": 17,
    "start_time": "2023-07-16T14:48:29.701Z"
   },
   {
    "duration": 21,
    "start_time": "2023-07-16T14:50:43.007Z"
   },
   {
    "duration": 12,
    "start_time": "2023-07-16T14:50:55.704Z"
   },
   {
    "duration": 25,
    "start_time": "2023-07-16T14:51:54.248Z"
   },
   {
    "duration": 12,
    "start_time": "2023-07-16T14:52:05.522Z"
   },
   {
    "duration": 4,
    "start_time": "2023-07-16T14:53:26.340Z"
   },
   {
    "duration": 24,
    "start_time": "2023-07-16T14:53:30.203Z"
   },
   {
    "duration": 14,
    "start_time": "2023-07-16T14:54:03.144Z"
   },
   {
    "duration": 13,
    "start_time": "2023-07-16T14:54:13.143Z"
   },
   {
    "duration": 11,
    "start_time": "2023-07-16T14:54:22.715Z"
   },
   {
    "duration": 8,
    "start_time": "2023-07-16T15:15:18.488Z"
   },
   {
    "duration": 2758,
    "start_time": "2023-07-16T15:15:34.116Z"
   },
   {
    "duration": 14,
    "start_time": "2023-07-16T15:15:36.876Z"
   },
   {
    "duration": 1041,
    "start_time": "2023-07-16T15:15:36.897Z"
   },
   {
    "duration": 29,
    "start_time": "2023-07-16T15:15:37.941Z"
   },
   {
    "duration": 332,
    "start_time": "2023-07-16T15:15:37.972Z"
   },
   {
    "duration": 413,
    "start_time": "2023-07-16T15:15:38.305Z"
   },
   {
    "duration": 59,
    "start_time": "2023-07-16T15:15:38.719Z"
   },
   {
    "duration": 7,
    "start_time": "2023-07-16T15:15:38.787Z"
   },
   {
    "duration": 214072,
    "start_time": "2023-07-16T15:15:38.797Z"
   },
   {
    "duration": 6413,
    "start_time": "2023-07-16T15:19:12.872Z"
   },
   {
    "duration": 2024,
    "start_time": "2023-07-16T15:19:19.292Z"
   },
   {
    "duration": 6,
    "start_time": "2023-07-16T15:19:42.945Z"
   },
   {
    "duration": 16,
    "start_time": "2023-07-16T15:19:53.452Z"
   },
   {
    "duration": 5826,
    "start_time": "2023-07-16T15:20:21.518Z"
   },
   {
    "duration": 1964,
    "start_time": "2023-07-16T15:20:27.346Z"
   },
   {
    "duration": 7,
    "start_time": "2023-07-16T15:24:46.722Z"
   },
   {
    "duration": 8,
    "start_time": "2023-07-16T15:25:22.389Z"
   },
   {
    "duration": 8,
    "start_time": "2023-07-16T15:30:36.551Z"
   },
   {
    "duration": 5,
    "start_time": "2023-07-16T15:30:38.855Z"
   },
   {
    "duration": 11,
    "start_time": "2023-07-16T15:30:53.665Z"
   },
   {
    "duration": 4,
    "start_time": "2023-07-16T15:30:57.138Z"
   },
   {
    "duration": 139,
    "start_time": "2023-07-16T15:32:00.197Z"
   },
   {
    "duration": 5,
    "start_time": "2023-07-16T15:32:14.389Z"
   },
   {
    "duration": 20,
    "start_time": "2023-07-16T15:32:17.677Z"
   },
   {
    "duration": 995465,
    "start_time": "2023-07-16T15:32:22.546Z"
   },
   {
    "duration": 1667,
    "start_time": "2023-07-18T15:55:39.999Z"
   },
   {
    "duration": 6,
    "start_time": "2023-07-18T15:55:41.668Z"
   },
   {
    "duration": 3477,
    "start_time": "2023-07-18T15:55:41.675Z"
   },
   {
    "duration": 15,
    "start_time": "2023-07-18T15:55:45.154Z"
   },
   {
    "duration": 293,
    "start_time": "2023-07-18T15:55:45.172Z"
   },
   {
    "duration": 548,
    "start_time": "2023-07-18T15:55:45.467Z"
   },
   {
    "duration": 89,
    "start_time": "2023-07-18T15:55:46.018Z"
   },
   {
    "duration": 5,
    "start_time": "2023-07-18T15:55:46.109Z"
   },
   {
    "duration": 161970,
    "start_time": "2023-07-18T15:55:46.116Z"
   },
   {
    "duration": 4458,
    "start_time": "2023-07-18T15:58:28.088Z"
   },
   {
    "duration": 1426,
    "start_time": "2023-07-18T15:58:32.548Z"
   },
   {
    "duration": 3,
    "start_time": "2023-07-18T15:58:33.976Z"
   },
   {
    "duration": 822780,
    "start_time": "2023-07-18T15:58:33.981Z"
   },
   {
    "duration": 117,
    "start_time": "2023-07-18T16:19:04.505Z"
   },
   {
    "duration": 3,
    "start_time": "2023-07-18T16:19:19.922Z"
   },
   {
    "duration": 4043,
    "start_time": "2023-07-18T16:44:57.664Z"
   },
   {
    "duration": 1303,
    "start_time": "2023-07-18T16:45:41.522Z"
   },
   {
    "duration": 1861,
    "start_time": "2023-07-19T09:42:54.260Z"
   },
   {
    "duration": 19,
    "start_time": "2023-07-19T09:42:56.125Z"
   },
   {
    "duration": 3016,
    "start_time": "2023-07-19T09:42:56.145Z"
   },
   {
    "duration": 15,
    "start_time": "2023-07-19T09:42:59.163Z"
   },
   {
    "duration": 293,
    "start_time": "2023-07-19T09:42:59.180Z"
   },
   {
    "duration": 678,
    "start_time": "2023-07-19T09:42:59.475Z"
   },
   {
    "duration": 80,
    "start_time": "2023-07-19T09:43:00.155Z"
   },
   {
    "duration": 9,
    "start_time": "2023-07-19T09:43:00.236Z"
   },
   {
    "duration": 190188,
    "start_time": "2023-07-19T09:43:00.247Z"
   },
   {
    "duration": 4689,
    "start_time": "2023-07-19T09:46:10.438Z"
   },
   {
    "duration": 1586,
    "start_time": "2023-07-19T09:46:15.131Z"
   },
   {
    "duration": 5,
    "start_time": "2023-07-19T09:46:16.719Z"
   },
   {
    "duration": 950006,
    "start_time": "2023-07-19T09:46:16.726Z"
   },
   {
    "duration": 239,
    "start_time": "2023-07-19T10:02:06.736Z"
   },
   {
    "duration": 1685,
    "start_time": "2023-07-19T12:26:20.219Z"
   },
   {
    "duration": 6,
    "start_time": "2023-07-19T12:26:21.906Z"
   },
   {
    "duration": 1087,
    "start_time": "2023-07-19T12:26:21.914Z"
   },
   {
    "duration": 22,
    "start_time": "2023-07-19T12:26:23.003Z"
   },
   {
    "duration": 269,
    "start_time": "2023-07-19T12:26:23.026Z"
   },
   {
    "duration": 445,
    "start_time": "2023-07-19T12:26:23.297Z"
   },
   {
    "duration": 37,
    "start_time": "2023-07-19T12:26:23.744Z"
   },
   {
    "duration": 12,
    "start_time": "2023-07-19T12:26:23.782Z"
   },
   {
    "duration": 162665,
    "start_time": "2023-07-19T12:26:23.796Z"
   },
   {
    "duration": 3990,
    "start_time": "2023-07-19T12:29:06.463Z"
   },
   {
    "duration": 1413,
    "start_time": "2023-07-19T12:29:10.454Z"
   },
   {
    "duration": 2,
    "start_time": "2023-07-19T12:29:11.869Z"
   },
   {
    "duration": 880857,
    "start_time": "2023-07-19T12:29:11.873Z"
   },
   {
    "duration": 191,
    "start_time": "2023-07-19T12:43:52.733Z"
   },
   {
    "duration": 585307,
    "start_time": "2023-07-19T12:47:08.380Z"
   },
   {
    "duration": 61490,
    "start_time": "2023-07-19T12:58:08.431Z"
   },
   {
    "duration": 10,
    "start_time": "2023-07-19T13:04:37.409Z"
   },
   {
    "duration": 2705,
    "start_time": "2023-07-19T13:05:26.873Z"
   },
   {
    "duration": 16,
    "start_time": "2023-07-19T13:05:34.572Z"
   },
   {
    "duration": 206,
    "start_time": "2023-07-19T13:06:00.481Z"
   },
   {
    "duration": 3,
    "start_time": "2023-07-19T13:06:07.669Z"
   },
   {
    "duration": 284718,
    "start_time": "2023-07-19T13:07:01.035Z"
   },
   {
    "duration": 36,
    "start_time": "2023-07-19T13:12:24.621Z"
   },
   {
    "duration": 16,
    "start_time": "2023-07-19T13:18:30.877Z"
   },
   {
    "duration": 4,
    "start_time": "2023-07-19T13:18:58.644Z"
   },
   {
    "duration": 4,
    "start_time": "2023-07-19T13:19:06.748Z"
   },
   {
    "duration": 15,
    "start_time": "2023-07-19T13:19:17.862Z"
   },
   {
    "duration": 4,
    "start_time": "2023-07-19T13:19:21.298Z"
   },
   {
    "duration": 26,
    "start_time": "2023-07-19T13:19:26.162Z"
   },
   {
    "duration": 4,
    "start_time": "2023-07-19T13:43:19.859Z"
   },
   {
    "duration": 111214,
    "start_time": "2023-07-19T13:43:26.963Z"
   },
   {
    "duration": 1727,
    "start_time": "2023-07-19T13:45:42.616Z"
   },
   {
    "duration": 5,
    "start_time": "2023-07-19T13:45:44.345Z"
   },
   {
    "duration": 1062,
    "start_time": "2023-07-19T13:45:44.351Z"
   },
   {
    "duration": 22,
    "start_time": "2023-07-19T13:45:45.415Z"
   },
   {
    "duration": 307,
    "start_time": "2023-07-19T13:45:45.439Z"
   },
   {
    "duration": 453,
    "start_time": "2023-07-19T13:45:45.748Z"
   },
   {
    "duration": 50,
    "start_time": "2023-07-19T13:45:46.203Z"
   },
   {
    "duration": 30,
    "start_time": "2023-07-19T13:45:46.254Z"
   },
   {
    "duration": 177225,
    "start_time": "2023-07-19T13:45:46.286Z"
   },
   {
    "duration": 5547,
    "start_time": "2023-07-19T13:48:43.513Z"
   },
   {
    "duration": 3,
    "start_time": "2023-07-19T13:48:49.061Z"
   },
   {
    "duration": 8,
    "start_time": "2023-07-19T13:48:49.066Z"
   },
   {
    "duration": 3,
    "start_time": "2023-07-19T13:57:11.410Z"
   },
   {
    "duration": 1877,
    "start_time": "2023-07-19T14:43:57.403Z"
   },
   {
    "duration": 6,
    "start_time": "2023-07-19T14:43:59.282Z"
   },
   {
    "duration": 1176,
    "start_time": "2023-07-19T14:43:59.289Z"
   },
   {
    "duration": 19,
    "start_time": "2023-07-19T14:44:00.467Z"
   },
   {
    "duration": 443,
    "start_time": "2023-07-19T14:44:00.489Z"
   },
   {
    "duration": 540,
    "start_time": "2023-07-19T14:44:00.933Z"
   },
   {
    "duration": 69,
    "start_time": "2023-07-19T14:44:01.475Z"
   },
   {
    "duration": 32,
    "start_time": "2023-07-19T14:44:01.547Z"
   },
   {
    "duration": 184309,
    "start_time": "2023-07-19T14:44:01.581Z"
   },
   {
    "duration": 5206,
    "start_time": "2023-07-19T14:47:05.891Z"
   },
   {
    "duration": 2,
    "start_time": "2023-07-19T14:47:11.101Z"
   },
   {
    "duration": 883617,
    "start_time": "2023-07-19T14:47:11.105Z"
   },
   {
    "duration": 166955,
    "start_time": "2023-07-19T15:01:54.725Z"
   },
   {
    "duration": 0,
    "start_time": "2023-07-19T15:04:41.682Z"
   },
   {
    "duration": 132322,
    "start_time": "2023-07-19T15:12:14.047Z"
   },
   {
    "duration": 44029,
    "start_time": "2023-07-19T15:14:28.021Z"
   },
   {
    "duration": 93665,
    "start_time": "2023-07-19T15:18:09.671Z"
   },
   {
    "duration": 213740,
    "start_time": "2023-07-19T15:22:05.788Z"
   },
   {
    "duration": 245566,
    "start_time": "2023-07-19T15:34:04.694Z"
   },
   {
    "duration": 143,
    "start_time": "2023-07-19T15:38:10.262Z"
   },
   {
    "duration": 0,
    "start_time": "2023-07-19T15:38:10.406Z"
   },
   {
    "duration": 173150,
    "start_time": "2023-07-19T15:39:33.316Z"
   },
   {
    "duration": 0,
    "start_time": "2023-07-19T15:42:26.469Z"
   },
   {
    "duration": 0,
    "start_time": "2023-07-19T15:42:26.472Z"
   },
   {
    "duration": 38191576,
    "start_time": "2023-07-19T15:42:38.173Z"
   },
   {
    "duration": 39957,
    "start_time": "2023-07-20T03:02:23.353Z"
   },
   {
    "duration": 2002,
    "start_time": "2023-07-20T03:03:03.311Z"
   },
   {
    "duration": 15,
    "start_time": "2023-07-20T03:03:05.315Z"
   },
   {
    "duration": 0,
    "start_time": "2023-07-20T03:03:05.331Z"
   },
   {
    "duration": 0,
    "start_time": "2023-07-20T03:03:05.332Z"
   },
   {
    "duration": 283,
    "start_time": "2023-07-20T03:04:17.834Z"
   },
   {
    "duration": 0,
    "start_time": "2023-07-20T03:20:46.721Z"
   },
   {
    "duration": 1753,
    "start_time": "2023-07-20T03:21:06.186Z"
   },
   {
    "duration": 5,
    "start_time": "2023-07-20T03:21:07.941Z"
   },
   {
    "duration": 895,
    "start_time": "2023-07-20T03:21:07.947Z"
   },
   {
    "duration": 12,
    "start_time": "2023-07-20T03:21:08.843Z"
   },
   {
    "duration": 242,
    "start_time": "2023-07-20T03:21:08.857Z"
   },
   {
    "duration": 501,
    "start_time": "2023-07-20T03:21:09.101Z"
   },
   {
    "duration": 50,
    "start_time": "2023-07-20T03:21:09.603Z"
   },
   {
    "duration": 3,
    "start_time": "2023-07-20T03:21:09.655Z"
   },
   {
    "duration": 150253,
    "start_time": "2023-07-20T03:21:09.660Z"
   },
   {
    "duration": 4777,
    "start_time": "2023-07-20T03:23:39.915Z"
   },
   {
    "duration": 3,
    "start_time": "2023-07-20T03:23:44.693Z"
   },
   {
    "duration": 653231,
    "start_time": "2023-07-20T03:23:44.697Z"
   },
   {
    "duration": 48098,
    "start_time": "2023-07-20T03:34:37.930Z"
   },
   {
    "duration": 96,
    "start_time": "2023-07-20T03:35:26.031Z"
   },
   {
    "duration": 970550,
    "start_time": "2023-07-20T03:35:26.129Z"
   },
   {
    "duration": 4951,
    "start_time": "2023-07-20T03:51:36.681Z"
   },
   {
    "duration": 876,
    "start_time": "2023-07-20T03:51:41.634Z"
   },
   {
    "duration": 18228464,
    "start_time": "2023-07-20T03:51:42.511Z"
   },
   {
    "duration": 0,
    "start_time": "2023-07-20T08:55:30.977Z"
   },
   {
    "duration": 0,
    "start_time": "2023-07-20T08:55:30.979Z"
   },
   {
    "duration": 1,
    "start_time": "2023-07-20T12:41:26.282Z"
   },
   {
    "duration": 0,
    "start_time": "2023-07-20T12:41:26.285Z"
   },
   {
    "duration": 0,
    "start_time": "2023-07-20T12:41:26.287Z"
   },
   {
    "duration": 87,
    "start_time": "2023-07-20T12:41:28.654Z"
   },
   {
    "duration": 68043258,
    "start_time": "2023-07-20T12:41:33.882Z"
   },
   {
    "duration": 1,
    "start_time": "2023-07-21T07:35:37.142Z"
   },
   {
    "duration": 0,
    "start_time": "2023-07-21T07:35:37.144Z"
   },
   {
    "duration": 154,
    "start_time": "2023-07-21T07:35:41.536Z"
   },
   {
    "duration": 186,
    "start_time": "2023-07-21T07:36:38.030Z"
   },
   {
    "duration": 513,
    "start_time": "2023-07-21T07:36:47.577Z"
   },
   {
    "duration": 200,
    "start_time": "2023-07-21T07:37:03.038Z"
   },
   {
    "duration": 2282826,
    "start_time": "2023-07-21T07:37:11.068Z"
   },
   {
    "duration": 87616,
    "start_time": "2023-07-21T08:16:39.953Z"
   },
   {
    "duration": 1197,
    "start_time": "2023-07-21T08:18:07.571Z"
   },
   {
    "duration": 3,
    "start_time": "2023-07-21T08:18:09.674Z"
   },
   {
    "duration": 2267194,
    "start_time": "2023-07-21T08:18:10.733Z"
   },
   {
    "duration": 1227,
    "start_time": "2023-07-21T08:55:57.930Z"
   },
   {
    "duration": 490,
    "start_time": "2023-07-21T09:08:04.998Z"
   },
   {
    "duration": 49761,
    "start_time": "2023-07-21T09:13:09.268Z"
   },
   {
    "duration": 211,
    "start_time": "2023-07-21T09:14:25.746Z"
   },
   {
    "duration": 15,
    "start_time": "2023-07-21T09:16:14.385Z"
   },
   {
    "duration": 20,
    "start_time": "2023-07-21T09:16:37.059Z"
   },
   {
    "duration": 17,
    "start_time": "2023-07-21T09:16:44.438Z"
   },
   {
    "duration": 17,
    "start_time": "2023-07-21T09:16:52.524Z"
   },
   {
    "duration": 48228,
    "start_time": "2023-07-21T09:18:26.796Z"
   },
   {
    "duration": 127,
    "start_time": "2023-07-21T09:19:34.430Z"
   },
   {
    "duration": 97,
    "start_time": "2023-07-21T09:19:37.874Z"
   },
   {
    "duration": 51437,
    "start_time": "2023-07-21T09:19:41.903Z"
   },
   {
    "duration": 16,
    "start_time": "2023-07-21T09:30:25.402Z"
   },
   {
    "duration": 19,
    "start_time": "2023-07-21T09:34:32.350Z"
   },
   {
    "duration": 27,
    "start_time": "2023-07-21T09:34:36.281Z"
   },
   {
    "duration": 20,
    "start_time": "2023-07-21T09:34:38.405Z"
   },
   {
    "duration": 20,
    "start_time": "2023-07-21T09:34:39.982Z"
   },
   {
    "duration": 3545,
    "start_time": "2023-07-21T09:54:17.350Z"
   },
   {
    "duration": 56,
    "start_time": "2023-07-21T09:54:20.898Z"
   },
   {
    "duration": 3420,
    "start_time": "2023-07-21T09:54:20.956Z"
   },
   {
    "duration": 19,
    "start_time": "2023-07-21T09:54:24.379Z"
   },
   {
    "duration": 292,
    "start_time": "2023-07-21T09:54:24.400Z"
   },
   {
    "duration": 739,
    "start_time": "2023-07-21T09:54:24.694Z"
   },
   {
    "duration": 67,
    "start_time": "2023-07-21T09:54:25.435Z"
   },
   {
    "duration": 4,
    "start_time": "2023-07-21T09:54:25.506Z"
   },
   {
    "duration": 57,
    "start_time": "2023-07-21T09:54:25.512Z"
   },
   {
    "duration": 1860,
    "start_time": "2023-07-23T06:53:39.342Z"
   },
   {
    "duration": 6,
    "start_time": "2023-07-23T06:53:46.046Z"
   },
   {
    "duration": 3357,
    "start_time": "2023-07-23T06:53:46.777Z"
   },
   {
    "duration": 14,
    "start_time": "2023-07-23T06:53:50.136Z"
   },
   {
    "duration": 259,
    "start_time": "2023-07-23T06:53:50.151Z"
   },
   {
    "duration": 600,
    "start_time": "2023-07-23T06:53:50.876Z"
   },
   {
    "duration": 61,
    "start_time": "2023-07-23T06:53:51.835Z"
   },
   {
    "duration": 4,
    "start_time": "2023-07-23T06:53:53.995Z"
   },
   {
    "duration": 196,
    "start_time": "2023-07-23T07:05:13.462Z"
   },
   {
    "duration": 1622,
    "start_time": "2023-07-23T07:07:29.664Z"
   },
   {
    "duration": 6,
    "start_time": "2023-07-23T07:07:31.288Z"
   },
   {
    "duration": 864,
    "start_time": "2023-07-23T07:07:31.295Z"
   },
   {
    "duration": 17,
    "start_time": "2023-07-23T07:07:32.161Z"
   },
   {
    "duration": 269,
    "start_time": "2023-07-23T07:07:32.179Z"
   },
   {
    "duration": 459,
    "start_time": "2023-07-23T07:07:32.450Z"
   },
   {
    "duration": 49,
    "start_time": "2023-07-23T07:07:32.911Z"
   },
   {
    "duration": 5,
    "start_time": "2023-07-23T07:07:32.962Z"
   },
   {
    "duration": 156822,
    "start_time": "2023-07-23T07:07:32.968Z"
   },
   {
    "duration": 5229,
    "start_time": "2023-07-23T07:10:09.793Z"
   },
   {
    "duration": 166,
    "start_time": "2023-07-23T07:10:15.024Z"
   },
   {
    "duration": 0,
    "start_time": "2023-07-23T07:10:15.191Z"
   },
   {
    "duration": 0,
    "start_time": "2023-07-23T07:10:15.192Z"
   },
   {
    "duration": 0,
    "start_time": "2023-07-23T07:10:15.193Z"
   },
   {
    "duration": 0,
    "start_time": "2023-07-23T07:10:15.194Z"
   },
   {
    "duration": 0,
    "start_time": "2023-07-23T07:10:15.195Z"
   },
   {
    "duration": 0,
    "start_time": "2023-07-23T07:10:15.196Z"
   },
   {
    "duration": 0,
    "start_time": "2023-07-23T07:10:15.197Z"
   },
   {
    "duration": 0,
    "start_time": "2023-07-23T07:10:15.199Z"
   },
   {
    "duration": 0,
    "start_time": "2023-07-23T07:10:15.200Z"
   },
   {
    "duration": 0,
    "start_time": "2023-07-23T07:10:15.201Z"
   },
   {
    "duration": 120,
    "start_time": "2023-07-23T07:10:26.169Z"
   },
   {
    "duration": 1790764,
    "start_time": "2023-07-23T07:10:37.794Z"
   },
   {
    "duration": 43900,
    "start_time": "2023-07-23T07:40:28.561Z"
   },
   {
    "duration": 8,
    "start_time": "2023-07-23T07:41:12.462Z"
   },
   {
    "duration": 150366,
    "start_time": "2023-07-23T07:41:12.472Z"
   },
   {
    "duration": 0,
    "start_time": "2023-07-23T07:43:42.840Z"
   },
   {
    "duration": 0,
    "start_time": "2023-07-23T07:43:42.841Z"
   },
   {
    "duration": 0,
    "start_time": "2023-07-23T07:43:42.842Z"
   },
   {
    "duration": 0,
    "start_time": "2023-07-23T07:43:42.843Z"
   },
   {
    "duration": 0,
    "start_time": "2023-07-23T07:43:42.843Z"
   },
   {
    "duration": 0,
    "start_time": "2023-07-23T07:43:42.844Z"
   },
   {
    "duration": 0,
    "start_time": "2023-07-23T07:43:42.859Z"
   },
   {
    "duration": 623045,
    "start_time": "2023-07-23T07:43:59.416Z"
   },
   {
    "duration": 44098,
    "start_time": "2023-07-23T07:54:22.463Z"
   },
   {
    "duration": 98,
    "start_time": "2023-07-23T07:55:06.562Z"
   },
   {
    "duration": 952692,
    "start_time": "2023-07-23T07:55:06.662Z"
   },
   {
    "duration": 5614,
    "start_time": "2023-07-23T08:10:59.358Z"
   },
   {
    "duration": 918,
    "start_time": "2023-07-23T08:11:04.974Z"
   },
   {
    "duration": 15050109,
    "start_time": "2023-07-23T08:11:05.894Z"
   },
   {
    "duration": 2459756,
    "start_time": "2023-07-23T12:21:56.005Z"
   },
   {
    "duration": 479,
    "start_time": "2023-07-23T13:02:55.763Z"
   },
   {
    "duration": 46623,
    "start_time": "2023-07-23T13:02:56.245Z"
   },
   {
    "duration": 22,
    "start_time": "2023-07-23T13:03:42.875Z"
   }
  ],
  "kernelspec": {
   "display_name": "Python 3 (ipykernel)",
   "language": "python",
   "name": "python3"
  },
  "language_info": {
   "codemirror_mode": {
    "name": "ipython",
    "version": 3
   },
   "file_extension": ".py",
   "mimetype": "text/x-python",
   "name": "python",
   "nbconvert_exporter": "python",
   "pygments_lexer": "ipython3",
   "version": "3.10.9"
  },
  "toc": {
   "base_numbering": 1,
   "nav_menu": {},
   "number_sections": true,
   "sideBar": true,
   "skip_h1_title": true,
   "title_cell": "Содержание",
   "title_sidebar": "Contents",
   "toc_cell": true,
   "toc_position": {
    "height": "calc(100% - 180px)",
    "left": "10px",
    "top": "150px",
    "width": "302.365px"
   },
   "toc_section_display": true,
   "toc_window_display": true
  }
 },
 "nbformat": 4,
 "nbformat_minor": 2
}
